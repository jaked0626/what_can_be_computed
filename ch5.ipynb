{
 "cells": [
  {
   "cell_type": "markdown",
   "metadata": {},
   "source": [
    "<center><h1>What Can Be Computed? - John MacCormick<br>\n",
    "[Ch 5] Turing Macines: The Simplest Computers</h1></center>"
   ]
  },
  {
   "cell_type": "markdown",
   "metadata": {},
   "source": [
    "## 4.3 Categories of Computational Problems  \n",
    "* `Q(I, S)`: Predicate, returns `true` or `false` given string parameters `I` and `S`.  \n",
    "* *numerical function*: Function that returns a number. \n",
    "\n",
    "### Search Problems  \n",
    "Given a string parameter `I`, finds a string `S` such that `Q(I, S)` is `true` (or returns `false` if no such `S` exists).  \n",
    "\n",
    "### Optimization Problems  \n",
    "Let `V(I, S)` be a numerical function, and the objective function of the optimization problem.  \n",
    "Given string `I`, returns `S` such that `V(I, S)` is minimized (maximized).  \n",
    "\n",
    "### Threshold Problems  \n",
    "Let `V(I, S)` be a numerical function, and let `K` be a numerical threshold.  \n",
    "Given `I` and `K`, return `S` such that `V(I, S) <= K` (or alternatively, `V(I, S) == K`)  \n",
    "\n",
    "### Function Problem  \n",
    "Solution sets are all singletons, or returns a unique solution for each possible input string `I`.  \n",
    "\n",
    "### Decision Problem  \n",
    "A type of *function problem* which returns exactly two possible solutions (In ASCII alphabet, `\"yes\"` or `\"no\"`, in other alphabet, any arbitrary pair of fixed strings).  \n",
    "  \n",
    "Useful in theoretical discussions, not in practice. "
   ]
  },
  {
   "cell_type": "markdown",
   "metadata": {},
   "source": [
    "## 5.1 Definition of a Turing Machine"
   ]
  },
  {
   "cell_type": "markdown",
   "metadata": {},
   "source": [
    "![](images/turing.jpg)"
   ]
  },
  {
   "cell_type": "markdown",
   "metadata": {},
   "source": [
    "### Mathematical Definition  \n",
    "**Sets:**\n",
    "* *Alphabet* $\\Sigma$: a finite set of symbols, includes a special symbol called the blank symbol \"&blank;\". Blank symbol is NOT the space symbol.   \n",
    "* *State set* $Q$: set of states, includes *start state* $q_0$ and one or more of *accept state* $q_\\text{accept}$, *reject state* $q_\\text{reject}$, *halt state* $q_\\text{halt}$.  \n",
    "\n",
    "**Transition Functions:**  \n",
    "* *New state function* $q'$= `NewState`($q, x$): Outputs the new state $q'$ that Turing machine will transition to. \n",
    "* *New symbol function* $x'$ = `NewSymbol`($q, x$): Outputs the new symbol $x'$ that the head writes in the current tape cell. \n",
    "* *Direction function* $d'$ = `Direction`($q, x$): Outputs $d' \\in \\{ \\text{Left, Right, Stay}\\}$, the direction the read-write head should move. If head is already at left end of the tape, Left is interpreted as Stay.  \n",
    "\n",
    "**Combined Transition Function**:  \n",
    "* Function mapping $(q, x)$ to $q', x', d'$ following abovementioned functions. \n",
    "$$ \\delta (q, x) = (q', x', d')$$\n",
    "\n",
    "**Definition of Turing Machine**:\n",
    "* Has an alphabet $\\Sigma$, state set $Q$, and a transition function $\\delta(q,x) = (q', x', d')$. \n",
    "* The machine begins at $q_0$, with some finite sequence of non-blank symbols—the input—already written on the tape, followed by infinitely many blanks.  \n",
    "* The read-write head starts at position zero (left end).  \n",
    "* Machine applies transition function repeatedly (writing new symbols on the tape and moving head around) until it reaches $q_\\text{accept}$, $q_\\text{reject}$, or $q_\\text{halt}$. \n",
    "* Symbols left on tape is defined to be the output of the computation. \n",
    "* If halts at $q_\\text{accept}$, the machine *accepted* the input. If halts at $q_\\text{reject}$, the meachine *rejected the input. "
   ]
  },
  {
   "cell_type": "markdown",
   "metadata": {},
   "source": [
    "### Turing Machine for `LastTtoA`\n",
    "Defines a turing machine that takes in a genetic string and turns the last \"T\" to an \"A\".   \n",
    "\n",
    "![](images/lastt.jpg)"
   ]
  },
  {
   "cell_type": "markdown",
   "metadata": {},
   "source": [
    "![](images/lasttdiagram.jpg)"
   ]
  },
  {
   "cell_type": "markdown",
   "metadata": {},
   "source": [
    "### Halting and Looping  \n",
    "* **Loop**: When a turing machine runs forever. For example, what if `LastTtoA` did not contain any \"T\"?  \n",
    "* **Halt**: When a turing machine terminates without looping.  \n"
   ]
  },
  {
   "cell_type": "markdown",
   "metadata": {},
   "source": [
    "### Accepters and Transducers  \n",
    "* Turing machines have two functions: 1. they return an output $M(I)$ and 2. they return an accept/reject decision.  \n",
    "* **Transducers**: When we are only interested in the machine's output $M(I)$. Transducers are equivalent if $\\forall I, M(I) = M'(I)$\n",
    "* **Accepters**: when we are only interested in the machine's decision. Accepters are equivalent if they produce the same decision for all $I$. "
   ]
  },
  {
   "cell_type": "markdown",
   "metadata": {},
   "source": [
    "### Abbreviated Notation  \n",
    "* `CAG;T,L` - If symbol is one of `C`, `A`, `G`, replace with `T` and move Left.  \n",
    "* `!AT;R` - If symbol is NEITHER `A` nor `T`, move Right  \n",
    "* `∼;R` - For ALL symbols, turn Right.  \n",
    "* Assume that whenever transition is unspecified, machine halts and rejects by entering $q_\\text{reject}$  \n",
    "  \n",
    "![](images/abbrevlastt.jpg)"
   ]
  },
  {
   "cell_type": "markdown",
   "metadata": {},
   "source": [
    "## 5.2 Nontrivial Turing Machines  \n",
    "\n",
    "### `MoreCsThanGs`  \n",
    "Example of an accepter.  \n",
    "If there are more `C`s in the string than `G`s, the string is accepted. Otherwise it is rejected.  \n",
    "Counting is a complicated approach on a Turing machine. Instead, we erase one `C` for every `G` that we come across.  \n",
    "\n",
    "![](images/morecs.jpg)\n"
   ]
  },
  {
   "cell_type": "markdown",
   "metadata": {},
   "source": [
    "![](images/morecsdiagram.jpg)"
   ]
  },
  {
   "cell_type": "markdown",
   "metadata": {},
   "source": [
    "### `countCs`  \n",
    "Counts the number of `C`s in a genetic string.  \n",
    "Inputs: genetic string with `x` on both ends indicating edges of string.   \n",
    "Returns: binary number representing number of `C`s in between `x`s   \n",
    "E.g.) \n",
    "* input `xCGTACx` returns `x101x`\n",
    "* input `xAGTTGx` returns `xx` which is equal to 0. \n"
   ]
  },
  {
   "cell_type": "markdown",
   "metadata": {},
   "source": [
    "**Creating the Machine**: \n",
    "* `binaryIncrementer`: increments binary number  \n",
    "\n",
    "![](images/bininc.jpg)"
   ]
  },
  {
   "cell_type": "code",
   "execution_count": 19,
   "metadata": {},
   "outputs": [
    {
     "name": "stdout",
     "output_type": "stream",
     "text": [
      "x001x q1\n",
      "x001x q1\n",
      "x001x q1\n",
      "x001x q1\n",
      "x001x q2\n",
      "x000x q2\n",
      "x010x q3\n",
      "x010x q3\n",
      "x010x\n",
      "x1x q1\n",
      "x1x q1\n",
      "x1x q2\n",
      "x0x q2\n",
      "10x\n"
     ]
    }
   ],
   "source": [
    "def binaryIncrementer(string):\n",
    "    \"\"\"\n",
    "    Increments binary number by one (constructed as a turing machine)\n",
    "    Inputs:\n",
    "        string (str): binary number, starts and ends with an x. \n",
    "    Returns incremented binary number. \n",
    "    \"\"\"\n",
    "    assert string[0] == string[-1] == \"x\"\n",
    "    state = \"q0\"\n",
    "    i = 0\n",
    "    while True:\n",
    "        if state == \"q0\":\n",
    "            if string[i] == \"x\":\n",
    "                i += 1\n",
    "                state = \"q1\"\n",
    "        elif state == \"q1\":\n",
    "            if string[i] in (\"0\", \"1\"):\n",
    "                i += 1\n",
    "            elif string[i] == \"x\":\n",
    "                state = \"q2\"\n",
    "                i -= 1\n",
    "        elif state == \"q2\":\n",
    "            if string[i] == \"1\":\n",
    "                string = string[:i] + \"0\" + string[i+1:]\n",
    "                i -= 1\n",
    "            elif string[i] == \"0\":\n",
    "                string = string[:i] + \"1\" + string[i+1:]\n",
    "                i -=1\n",
    "                state = \"q3\"\n",
    "            elif string[i] == \"x\":\n",
    "                string = string[:i] + \"1\" + string[i+1:]\n",
    "                break # halt\n",
    "        elif state == \"q3\":\n",
    "            if string[i] in (\"0\", \"1\"):\n",
    "                i -= 1\n",
    "            elif string[i] == \"x\":\n",
    "                break # halt\n",
    "        print(string, state)\n",
    "    return string\n",
    "            \n",
    "print(binaryIncrementer(\"x001x\"))\n",
    "print(binaryIncrementer(\"x1x\"))"
   ]
  },
  {
   "cell_type": "markdown",
   "metadata": {},
   "source": [
    "* `shiftInteger`: shifts an integer one cell to the right, filling in the gap on the left with an `x`  \n",
    "  \n",
    "![](images/shiftint.jpg)"
   ]
  },
  {
   "cell_type": "code",
   "execution_count": 1,
   "metadata": {},
   "outputs": [
    {
     "name": "stdout",
     "output_type": "stream",
     "text": [
      "y1011x\n",
      "y1011x\n",
      "y1011x\n",
      "y1011x\n",
      "y1011x\n",
      "y1011x\n",
      "y1011x\n",
      "y1011xx\n",
      "y1011xx\n",
      "y1011xx\n",
      "y10111x\n",
      "y10111x\n",
      "y10111x\n",
      "y10111x\n",
      "y10111x\n",
      "y10111x\n",
      "y10011x\n",
      "y10011x\n",
      "y10011x\n",
      "y11011x\n",
      "y11011x\n",
      "x11011x\n",
      "xx1011x\n"
     ]
    }
   ],
   "source": [
    "def shiftInteger(string):\n",
    "    \"\"\"\n",
    "    shifts an integer one cell to the right, filling in the gap on \n",
    "    the left with an x.\n",
    "    Inputs:\n",
    "        string (str): binary integer that ends with \"x\"\n",
    "    Returns shifted integer. \n",
    "    \"\"\"\n",
    "    assert string[0] == string[-1] == \"x\"\n",
    "    state = \"q0\"\n",
    "    i = 0\n",
    "    while True:\n",
    "        if state == \"q0\":\n",
    "            if string[i] == \"x\":\n",
    "                string = string[:i] + \"y\" + string[i+1:] # update x to y \n",
    "                i += 1 # turn Right\n",
    "                state = \"q1\"\n",
    "        elif state == \"q1\":\n",
    "            if string[i] != \"x\":\n",
    "                i += 1 # turn right\n",
    "            elif string[i] == \"x\":\n",
    "                state = \"q2\"\n",
    "                # stay\n",
    "        elif state == \"q2\":\n",
    "            if string[i] == \"y\":\n",
    "                string = string[:i] + \"x\" + string[i+1:] # turn y back to x\n",
    "                i += 1 # R\n",
    "                state = \"q3\"\n",
    "            elif string[i] == \"0\":\n",
    "                state = \"q4\"\n",
    "                i += 1 # R\n",
    "            elif string[i] == \"1\":\n",
    "                state = \"q5\"\n",
    "                i +=1 # R\n",
    "            elif string[i] == \"x\":\n",
    "                i += 1 # R\n",
    "                state = \"q6\"\n",
    "        elif state == \"q3\":\n",
    "            string = string[:i] + \"x\" + string[i+1:]\n",
    "            i -= 1 # L\n",
    "            break # halt\n",
    "        elif state == \"q4\":\n",
    "            string = string[:i] + \"0\" + string[i+1:]\n",
    "            i -= 1 # L\n",
    "            state = \"q7\"\n",
    "        elif state == \"q5\": \n",
    "            string = string[:i] + \"1\" + string[i+1:]\n",
    "            i -= 1 # L\n",
    "            state = \"q7\"\n",
    "        elif state == \"q6\":\n",
    "            string = string[:i] + \"x\" + string[i+1:]\n",
    "            i -= 1 # L\n",
    "            state = \"q7\"\n",
    "        elif state == \"q7\":\n",
    "            i -= 1\n",
    "            state = \"q2\"\n",
    "        print(string)\n",
    "    return string\n",
    "\n",
    "print(shiftInteger(\"x1011x\"))\n"
   ]
  },
  {
   "cell_type": "markdown",
   "metadata": {},
   "source": [
    "![](images/incrementwithoverflow.jpg)"
   ]
  },
  {
   "cell_type": "markdown",
   "metadata": {},
   "source": [
    "From our `incrementWithOverflow`, we can create an addition Turing machine by incrementing an appropriate number of times. From addition, we can implement multiplication, and so forth. Virtually all numeric functions are computable by Turing machines!!! "
   ]
  },
  {
   "cell_type": "markdown",
   "metadata": {},
   "source": [
    "## 5.3 Single-Tape to Multi-Tape Turing Machines  \n",
    "\n",
    "### One-tape, single-head -> Multi-tape, single-head  \n",
    "* Same as typical Turing Machine, but has two infinite tapes and one head which can be positioned on either tape.  \n",
    "  \n",
    "![](images/doubletape.jpg)  \n",
    "\n",
    "* Single-tape, single-head TMs can *simulate* Two-tape, single-head TMs.  \n",
    "*Proof*. Zip the two tapes so that each symbol on tape comprises a pair of symbols from tape 1 and tape 2.     \n",
    "\n",
    "Tape 1:  \n",
    "\n",
    "| a | c |  | z | a |  \n",
    "| --- | --- | --- | --- | --- |  \n",
    "\n",
    "Tape 2:  \n",
    "\n",
    "| x |  | y | k | v |   \n",
    "| --- | --- | --- | --- | --- |  \n",
    "\n",
    "CombinedTape: \n",
    "\n",
    "| \"ax\" | \"c_\" | \"_y\" | \"zk\" | \"av\" |  \n",
    "| --- | --- | --- | --- | --- |   \n",
    "\n",
    "where \"_\" indicates a space (NOT a blank)  $\\Box$\n",
    "* This proof can be extended to any multi-tape single-head TM.  \n",
    "* Two way infinite tapes can also be simulated by one-way infinite tapes by cutting the tape in half and turning it into a two-tape, one-way single-head TM.  \n",
    "* In mutli-tape TMs, one of the tapes is designated as the *input/output* tape, where the input is taken and output is recorded.   \n",
    "* When we say *16-bit* or *32-bit* structure, we refer to the length of the string (consisting of binary values) that represents one symbol on a tape. The alphabet of such a computer has a cardinality of $2^{16}$ or $2^{32}$. "
   ]
  },
  {
   "cell_type": "markdown",
   "metadata": {},
   "source": [
    "### Multi-tape, single-head to Multi-tape, Multi-head  \n",
    "* Multi-tape, multi-head TMs have multiple infinite tapes and multiple heads to read the tape.  \n",
    "* Let $M$ be a multi-tape, multi-head Turing machine. Then there exists a multi-tape, single-head Turing machine $M'$ that computes the same function as $M$.  \n",
    "*Proof*. Initially, assume $M$ has 2 tapes, $A$ and $B$. $M'$ will have 4 tapes: $A_1, A_2, B_1, B_2$, as shown in figure below. Tapes $A_1$ and $B_1$ correspond to $A$ and $B$. Tapes $A_2$ and $B_2$ keep track of where the head of $M$ is on each of its tapes. To simulate a step of M, the head of M′ must start from cell 0, search for the `x`’s on tapes $A_2$ and $B_2$ , and then alter tapes $A_1$ and $B_1$ in the same way that $M$ alters $A$ and $B$. $\\Box$\n",
    "  \n",
    "![](images/multihead.jpg)"
   ]
  },
  {
   "cell_type": "markdown",
   "metadata": {},
   "source": [
    "## 5.4 Multi-tape to Python Programs and Beyond  \n",
    "### Multi-tape Turing machine → random-access Turing machine  \n",
    "**Random-access TM**:  \n",
    "* In addition to the usual tapes and heads of a multi-tape TM, it has an *address tape* and a *random-access tape* (RAM). RAM must not be used as the input/output tape.  \n",
    "* *address tape*: stores index of RAM. $n$ in address tape points to RAM[$n$]  \n",
    "* *RAM*: allows access to its contents regardless of the position of the head.  \n",
    "\n",
    "Random-access TM can be simulated with a standard multi-tape machine by running a small subprogram that counts the relevant number of cells from the left end of the RAM. "
   ]
  },
  {
   "cell_type": "markdown",
   "metadata": {},
   "source": [
    "### Random-access Turing machine → real computer  \n",
    "* **Register**: Stores one item of information, typically 64 bits (string of length 64 consisting of 0s and 1s)  \n",
    "* **RAM**: Stores information currently used by computer. Each cell of its memory can be directly addressed using numeric address.  \n",
    "* **ROM**: Read only memory, used to store information that can only be read and not written to. Typically tells the computer how to boot when it is turned on.  \n",
    "* **Instruction Set**: Each CPU has a small fixed set of actions it can perform. The collection of all these actions is called the *instruction set*. Instructions include LOAD, STORE (transfers data to and from RAM), ADD, MULTIPLY (to perform arithmetic on registers), BRANCH (to jump to different part of program), AND, OR, NOT (for boolean operations on registers). *Every computer program is converted via a compiler into a set of CPU instructions before execution*. "
   ]
  },
  {
   "cell_type": "markdown",
   "metadata": {},
   "source": [
    "![](images/computer.jpg)"
   ]
  },
  {
   "cell_type": "markdown",
   "metadata": {},
   "source": [
    "* Denote a real computer as $C$, random-access TM as $R$  \n",
    "* $R$'s *Address tape* -> *register* of $C$ used for storing memory addresses in RAM.  \n",
    "* $R$'s other *tapes* -> general purpose *registers* of $C$.  \n",
    "* $R$'s *input/ouput tape* -> $C$'s *disk* (records input/output)  \n",
    "* $R$'s *RAM* -> $C$'s *RAM*  \n",
    "* $C$'s *ROM* -> built into $R$'s *transition function*  \n",
    "* $C$'s *instructions* in ROM -> *state* in $R$ (or small building block TM). Usually 100 or so different types. "
   ]
  },
  {
   "cell_type": "markdown",
   "metadata": {},
   "source": [
    "### Modern computer -> Python program  \n",
    "But an alternative is to imagine configuring your computer so that it automatically runs some particular Python program on startup (by configuring ROM). Once it is set up in this way, your computer can be regarded as a single, fixed piece of computer hardware that simulates the Python program."
   ]
  },
  {
   "cell_type": "markdown",
   "metadata": {},
   "source": [
    "From the above, we can conclude that a single-tape, single-head Turing Machine can simulate an entire single-core (and multi-core, which will be shown in Ch. 8) classical computer. "
   ]
  },
  {
   "cell_type": "markdown",
   "metadata": {},
   "source": [
    "## 5.5 Simluating a TM with Python  \n",
    "\n",
    "See github.  \n"
   ]
  },
  {
   "cell_type": "markdown",
   "metadata": {},
   "source": [
    "## 5.6 Classical Computers and Quantum Computers  \n",
    "* **Classical computers**: Each piece of circuitry is in two possible states: electrical current is flowing or not flowing.  \n",
    "* **Quantum computers**: Each component has infinitely many possible (stochastic) states. Increases computational power.  \n",
    "* Both computers can simulate each other, as classical computer just has to solve the quantum equation behind the state of components in quantum computer. This means the two are equivalent in the types of problems they can solve. However, quantum computers have much higher efficiency.   \n",
    "  \n",
    "# 5.7 All Known Computers are Turing Equivalent  \n",
    "1. standard Turing machines  \n",
    "2. multi-tape Turing machines  \n",
    "3. random-access Turing machines  \n",
    "4. Python programs  \n",
    "5. classical computers  \n",
    "6. quantum computers  \n",
    "The above are all turing equivalent and can solve the same set of problems (as shown earlier).  \n",
    "All physically realistic models are Turing equivalent or weaker.   \n"
   ]
  },
  {
   "cell_type": "markdown",
   "metadata": {},
   "source": []
  }
 ],
 "metadata": {
  "interpreter": {
   "hash": "73df3d2a648ddfe6e132dd0b2981f8c5ee01eb57f65aaa52301d101a94b0ebb5"
  },
  "kernelspec": {
   "display_name": "Python 3.8.3 ('base')",
   "language": "python",
   "name": "python3"
  },
  "language_info": {
   "codemirror_mode": {
    "name": "ipython",
    "version": 3
   },
   "file_extension": ".py",
   "mimetype": "text/x-python",
   "name": "python",
   "nbconvert_exporter": "python",
   "pygments_lexer": "ipython3",
   "version": "3.8.3"
  },
  "orig_nbformat": 4
 },
 "nbformat": 4,
 "nbformat_minor": 2
}
